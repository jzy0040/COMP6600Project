{
 "cells": [
  {
   "cell_type": "code",
   "execution_count": 4,
   "id": "c0ce08a8",
   "metadata": {},
   "outputs": [],
   "source": [
    "# import packages\n",
    "import numpy as np\n",
    "import math\n",
    "import matplotlib.pyplot as plt\n",
    "from sklearn.model_selection import train_test_split\n",
    "import pandas as pd"
   ]
  },
  {
   "cell_type": "code",
   "execution_count": 26,
   "id": "840502ee",
   "metadata": {
    "scrolled": true
   },
   "outputs": [
    {
     "name": "stdout",
     "output_type": "stream",
     "text": [
      "           id diagnosis  radius_mean  texture_mean  perimeter_mean  area_mean  \\\n",
      "0      842302         M        17.99         10.38          122.80     1001.0   \n",
      "1      842517         M        20.57         17.77          132.90     1326.0   \n",
      "2    84300903         M        19.69         21.25          130.00     1203.0   \n",
      "3    84348301         M        11.42         20.38           77.58      386.1   \n",
      "4    84358402         M        20.29         14.34          135.10     1297.0   \n",
      "..        ...       ...          ...           ...             ...        ...   \n",
      "564    926424         M        21.56         22.39          142.00     1479.0   \n",
      "565    926682         M        20.13         28.25          131.20     1261.0   \n",
      "566    926954         M        16.60         28.08          108.30      858.1   \n",
      "567    927241         M        20.60         29.33          140.10     1265.0   \n",
      "568     92751         B         7.76         24.54           47.92      181.0   \n",
      "\n",
      "     smoothness_mean  compactness_mean  concavity_mean  concave points_mean  \\\n",
      "0            0.11840           0.27760         0.30010              0.14710   \n",
      "1            0.08474           0.07864         0.08690              0.07017   \n",
      "2            0.10960           0.15990         0.19740              0.12790   \n",
      "3            0.14250           0.28390         0.24140              0.10520   \n",
      "4            0.10030           0.13280         0.19800              0.10430   \n",
      "..               ...               ...             ...                  ...   \n",
      "564          0.11100           0.11590         0.24390              0.13890   \n",
      "565          0.09780           0.10340         0.14400              0.09791   \n",
      "566          0.08455           0.10230         0.09251              0.05302   \n",
      "567          0.11780           0.27700         0.35140              0.15200   \n",
      "568          0.05263           0.04362         0.00000              0.00000   \n",
      "\n",
      "     ...  radius_worst  texture_worst  perimeter_worst  area_worst  \\\n",
      "0    ...        25.380          17.33           184.60      2019.0   \n",
      "1    ...        24.990          23.41           158.80      1956.0   \n",
      "2    ...        23.570          25.53           152.50      1709.0   \n",
      "3    ...        14.910          26.50            98.87       567.7   \n",
      "4    ...        22.540          16.67           152.20      1575.0   \n",
      "..   ...           ...            ...              ...         ...   \n",
      "564  ...        25.450          26.40           166.10      2027.0   \n",
      "565  ...        23.690          38.25           155.00      1731.0   \n",
      "566  ...        18.980          34.12           126.70      1124.0   \n",
      "567  ...        25.740          39.42           184.60      1821.0   \n",
      "568  ...         9.456          30.37            59.16       268.6   \n",
      "\n",
      "     smoothness_worst  compactness_worst  concavity_worst  \\\n",
      "0             0.16220            0.66560           0.7119   \n",
      "1             0.12380            0.18660           0.2416   \n",
      "2             0.14440            0.42450           0.4504   \n",
      "3             0.20980            0.86630           0.6869   \n",
      "4             0.13740            0.20500           0.4000   \n",
      "..                ...                ...              ...   \n",
      "564           0.14100            0.21130           0.4107   \n",
      "565           0.11660            0.19220           0.3215   \n",
      "566           0.11390            0.30940           0.3403   \n",
      "567           0.16500            0.86810           0.9387   \n",
      "568           0.08996            0.06444           0.0000   \n",
      "\n",
      "     concave points_worst  symmetry_worst  fractal_dimension_worst  \n",
      "0                  0.2654          0.4601                  0.11890  \n",
      "1                  0.1860          0.2750                  0.08902  \n",
      "2                  0.2430          0.3613                  0.08758  \n",
      "3                  0.2575          0.6638                  0.17300  \n",
      "4                  0.1625          0.2364                  0.07678  \n",
      "..                    ...             ...                      ...  \n",
      "564                0.2216          0.2060                  0.07115  \n",
      "565                0.1628          0.2572                  0.06637  \n",
      "566                0.1418          0.2218                  0.07820  \n",
      "567                0.2650          0.4087                  0.12400  \n",
      "568                0.0000          0.2871                  0.07039  \n",
      "\n",
      "[569 rows x 32 columns]\n",
      "455\n",
      "114\n",
      "455 [0 0 0 0 1 0 1 0 0 1 0 0 0 0 1 0 1 1 0 0 1 1 1 1 1 1 1 0 0 1 0 0 0 1 0 0 1\n",
      " 1 0 0 0 0 0 0 0 0 1 0 0 0 0 1 1 0 1 0 0 0 1 1 0 1 0 1 0 0 1 1 1 1 1 0 0 0\n",
      " 0 1 1 1 0 1 1 1 0 0 1 1 1 1 0 1 0 1 1 1 1 1 0 0 0 0 1 0 0 1 0 0 1 0 1 0 0\n",
      " 0 1 1 1 0 0 1 1 0 0 1 0 0 0 0 1 0 1 0 0 0 1 1 1 0 0 0 1 0 0 1 0 0 0 0 0 0\n",
      " 1 0 0 1 0 1 0 1 0 0 1 1 0 0 0 0 0 1 1 0 0 0 0 0 1 0 0 1 0 1 0 0 0 1 1 1 0\n",
      " 0 1 0 0 0 0 1 1 0 0 0 0 0 1 1 0 0 1 0 0 1 0 0 1 0 0 1 0 0 1 0 0 0 0 0 0 0\n",
      " 0 1 0 0 0 1 0 0 0 1 0 1 1 0 0 0 0 0 0 0 0 0 0 0 0 1 1 1 1 0 1 0 0 0 0 1 1\n",
      " 0 0 1 0 0 0 1 1 0 0 0 0 1 1 0 0 1 1 1 0 0 1 1 1 1 0 0 0 1 0 1 0 0 0 0 1 0\n",
      " 1 1 0 0 0 1 1 0 0 0 0 0 1 1 1 1 0 0 0 0 0 1 0 0 0 0 0 0 0 0 0 1 1 1 0 1 0\n",
      " 0 1 0 0 1 1 0 1 1 0 1 1 0 0 1 0 1 0 0 0 0 1 0 1 0 0 1 1 0 0 1 0 0 1 1 0 0\n",
      " 0 0 1 1 0 0 0 1 0 0 1 0 0 1 0 0 0 1 0 0 0 1 1 1 0 1 0 0 0 0 1 0 0 0 0 0 1\n",
      " 0 0 0 0 1 1 0 0 1 1 0 1 0 0 1 0 1 1 0 0 1 0 1 0 0 0 0 0 1 0 0 0 0 0 0 1 0\n",
      " 1 0 1 0 1 1 0 0 0 1 0]\n",
      "114 [0 0 0 0 0 0 1 1 1 0 1 1 1 0 0 0 0 0 0 0 1 0 0 0 0 0 0 0 0 0 1 0 0 0 0 0 1\n",
      " 0 1 0 0 1 0 1 0 0 0 0 0 1 0 0 0 1 0 0 0 0 0 0 0 0 1 1 0 0 1 1 1 0 1 1 0 0\n",
      " 1 0 1 1 0 0 0 1 0 1 1 0 1 0 1 0 1 0 0 1 1 1 1 0 1 0 1 1 1 0 0 1 0 0 1 0 0\n",
      " 0 0 0]\n"
     ]
    }
   ],
   "source": [
    "# laod data\n",
    "data= pd.read_csv(\"../data/data.csv\")\n",
    "print(data)\n",
    "data.drop(columns = ['id'], inplace = True)\n",
    "# data['diagnosis'].loc[data['diagnosis'] == 'B'] = 0\n",
    "# data['diagnosis'].loc[data['diagnosis'] == 'M'] = 1\n",
    "data['diagnosis'].replace('M', 1, inplace = True)\n",
    "data['diagnosis'].replace('B', 0, inplace = True)\n",
    "\n",
    "X = np.array(data.loc[:, data.columns != 'diagnosis'])\n",
    "y = np.array(data['diagnosis'])\n",
    "\n",
    "# train test split using sklearn\n",
    "x_train, x_test, y_train, y_test = train_test_split(X, y, test_size=0.2, random_state = 41)\n",
    "print(len(x_train))\n",
    "print(len(x_test))\n",
    "print(len(y_train), y_train)\n",
    "print(len(y_test), y_test)"
   ]
  },
  {
   "cell_type": "code",
   "execution_count": 8,
   "id": "470640ae",
   "metadata": {},
   "outputs": [],
   "source": [
    "# calculate the Euclidean distance between two vectors\n",
    "def euclidean_distance(row1, row2):\n",
    "    distance = 0.0\n",
    "    for i in range(len(row1)-1):\n",
    "        distance += (row1[i] - row2[i])**2\n",
    "    return math.sqrt(distance)\n",
    "\n",
    "\n",
    "# calculate the Manhattan distance between two vectors\n",
    "def manhattan_distance(row1, row2):\n",
    "    return sum(abs(row1 - row2))\n",
    "\n",
    "# neighbors returns a list that contains the label of test_row's k nearest neighbors \n",
    "def get_neighbors(x_train, y_train, x_test_row, num_neighbors, dist_fn):\n",
    "    distance = []\n",
    "    for train in x_train:\n",
    "        dist = dist_fn(x_test_row, train)\n",
    "        distance.append(dist)\n",
    "    sorted_dist_index = np.argsort(distance)[:num_neighbors]\n",
    "    neighbors = []\n",
    "    for i in sorted_dist_index:\n",
    "        neighbors.append(y_train[i])\n",
    "    return neighbors\n",
    "\n",
    "# Make a classification prediction with neighbors\n",
    "def predict(x_train, y_train, x_test_row, num_neighbors, dist_f):\n",
    "    neighbors = get_neighbors(x_train, y_train, x_test_row, num_neighbors, dist_f)\n",
    "    prediction = max(set(neighbors), key = neighbors.count)\n",
    "    return prediction\n",
    "\n",
    "def knn(x_train, y_train, x_test, num_neighbors, dist_fn):\n",
    "    predictions = []\n",
    "    for row in x_test:\n",
    "        res = predict(x_train, y_train, row, num_neighbors, dist_fn)\n",
    "        predictions.append(res)\n",
    "    return predictions\n",
    "\n",
    "def knn_accuracy(predictions, y_test):\n",
    "    accuracy = sum(np.array(predictions) == y_test) / len(predictions)\n",
    "    return accuracy\n"
   ]
  },
  {
   "cell_type": "code",
   "execution_count": 9,
   "id": "8b340e9a",
   "metadata": {},
   "outputs": [
    {
     "name": "stdout",
     "output_type": "stream",
     "text": [
      "0.9385964912280702\n",
      "0.9473684210526315\n"
     ]
    }
   ],
   "source": [
    "# for a4a data\n",
    "\n",
    "# load data\n",
    "num_neighbors = 5\n",
    "\n",
    "# using Euclidean distance\n",
    "euclidean_distance_prediction = knn(x_train, y_train, x_test, num_neighbors, euclidean_distance)\n",
    "euclidean_distance_accuracy = knn_accuracy(euclidean_distance_prediction, y_test)\n",
    "print(euclidean_distance_accuracy)\n",
    " \n",
    "# using Manhattan distance\n",
    "manhattan_distance_prediction = knn(x_train, y_train, x_test, num_neighbors, manhattan_distance)\n",
    "manhattan_distance_accuracy = knn_accuracy(manhattan_distance_prediction, y_test)\n",
    "print(manhattan_distance_accuracy)"
   ]
  },
  {
   "cell_type": "code",
   "execution_count": 19,
   "id": "b5617d04",
   "metadata": {},
   "outputs": [],
   "source": [
    "# KNN accuracy WRT. K\n",
    "K = []\n",
    "acc = {\"Euclidean\": [], \"Manhattan\": []}\n",
    "for i in range(1, 30):\n",
    "    euclidean_distance_prediction = knn(x_train, y_train, x_test, i, euclidean_distance)\n",
    "    euclidean_distance_accuracy = knn_accuracy(euclidean_distance_prediction, y_test)\n",
    "    manhattan_distance_prediction = knn(x_train, y_train, x_test, i, manhattan_distance)\n",
    "    manhattan_distance_accuracy = knn_accuracy(manhattan_distance_prediction, y_test)\n",
    "    K.append(i)\n",
    "    acc[\"Euclidean\"].append(euclidean_distance_accuracy)\n",
    "    acc[\"Manhattan\"].append(manhattan_distance_accuracy)\n"
   ]
  },
  {
   "cell_type": "code",
   "execution_count": 21,
   "id": "d01d49af",
   "metadata": {},
   "outputs": [
    {
     "data": {
      "image/png": "[encoded data removed]",
      "text/plain": [
       "<Figure size 432x288 with 1 Axes>"
      ]
     },
     "metadata": {
      "needs_background": "light"
     },
     "output_type": "display_data"
    }
   ],
   "source": [
    "def plot_learningCurve(K, acc):\n",
    "    # Plot training & validation accuracy values\n",
    "    plt.plot(K, acc['Euclidean'])\n",
    "    plt.plot(K, acc['Manhattan'])\n",
    "    plt.title('KNN accuracy')\n",
    "    plt.xlabel('K')\n",
    "    plt.ylim([0.9, 1])\n",
    "    plt.ylabel('Accuracy')\n",
    "    plt.xlim([1, 30])\n",
    "    plt.legend(['Euclidean distance', 'Manhattan distance'], loc = 'upper left')\n",
    "    plt.show()\n",
    "\n",
    "plot_learningCurve(K, acc)"
   ]
  },
  {
   "cell_type": "code",
   "execution_count": 31,
   "id": "b3595e7f",
   "metadata": {},
   "outputs": [],
   "source": [
    "k = 8\n",
    "size = []\n",
    "acc = {\"Euclidean\": [], \"Manhattan\": []}\n",
    "for i in range(1, x_train.shape[0]):\n",
    "    euclidean_distance_prediction = knn(x_train[: i], y_train[: i], x_test, k, euclidean_distance)\n",
    "    euclidean_distance_accuracy = knn_accuracy(euclidean_distance_prediction, y_test)\n",
    "    manhattan_distance_prediction = knn(x_train[: i], y_train[: i], x_test, k, manhattan_distance)\n",
    "    manhattan_distance_accuracy = knn_accuracy(manhattan_distance_prediction, y_test)\n",
    "    size.append(i)\n",
    "    acc[\"Euclidean\"].append(euclidean_distance_accuracy)\n",
    "    acc[\"Manhattan\"].append(manhattan_distance_accuracy)"
   ]
  },
  {
   "cell_type": "code",
   "execution_count": 38,
   "id": "90ec168b",
   "metadata": {},
   "outputs": [
    {
     "data": {
      "image/png": "[encoded data removed]",
      "text/plain": [
       "<Figure size 432x288 with 1 Axes>"
      ]
     },
     "metadata": {
      "needs_background": "light"
     },
     "output_type": "display_data"
    }
   ],
   "source": [
    "def plot_learningCurve(size, acc):\n",
    "    # Plot training & validation accuracy values\n",
    "    plt.plot(size, acc['Euclidean'])\n",
    "    plt.plot(size, acc['Manhattan'])\n",
    "    plt.title('KNN accuracy')\n",
    "    plt.xlabel('Train examples')\n",
    "    plt.ylim([0.6, 1])\n",
    "    plt.ylabel('Accuracy')\n",
    "    plt.xlim([1, 454])\n",
    "    plt.legend(['Euclidean distance', 'Manhattan distance'], loc = 'right')\n",
    "    plt.show()\n",
    "\n",
    "plot_learningCurve(size, acc)"
   ]
  }
 ],
 "metadata": {
  "kernelspec": {
   "display_name": "Python 3 (ipykernel)",
   "language": "python",
   "name": "python3"
  },
  "language_info": {
   "codemirror_mode": {
    "name": "ipython",
    "version": 3
   },
   "file_extension": ".py",
   "mimetype": "text/x-python",
   "name": "python",
   "nbconvert_exporter": "python",
   "pygments_lexer": "ipython3",
   "version": "3.7.12"
  }
 },
 "nbformat": 4,
 "nbformat_minor": 5
}
